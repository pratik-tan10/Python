{
  "nbformat": 4,
  "nbformat_minor": 0,
  "metadata": {
    "colab": {
      "provenance": []
    },
    "kernelspec": {
      "name": "python3",
      "display_name": "Python 3"
    },
    "language_info": {
      "name": "python"
    }
  },
  "cells": [
    {
      "cell_type": "markdown",
      "source": [
        "# Sankey Diagram\n",
        "This notebook demonstrates how to create a sankey diagram using plotly. A sankey diagram is a type of flow diagram that shows the flow or transition of quantities between different nodes. In this example, the nodes represent different land use classes, and the links represent the changes in land use over three years.\n",
        "\n",
        "The notebook consists of the following sections:\n",
        "\n",
        "- [Simulate land use changes over two years](#1)\n",
        "- [Simulate land use changes over three years](#2)\n",
        "- [Define functions to calculate confusion matrices and create sankey texts](#3)\n",
        "- [Define a list of colors for each land use ](#4)\n",
        "- [Create and display the sankey diagram](#5)"
      ],
      "metadata": {
        "id": "NzA0WmR77GWz"
      }
    },
    {
      "cell_type": "markdown",
      "source": [
        "# Install Kaleido and restart runtime\n",
        "Kaleido is a cross-platform library for generating static images from web-based visualization libraries like plotly. It is required for the `fig.write_image` function to work. To install kaleido, we use the pip command:"
      ],
      "metadata": {
        "id": "qK8j5CFq5JqZ"
      }
    },
    {
      "cell_type": "code",
      "source": [
        "! pip install -U kaleido -q"
      ],
      "metadata": {
        "id": "R0h1xdDv4WxG"
      },
      "execution_count": 105,
      "outputs": []
    },
    {
      "cell_type": "markdown",
      "source": [
        "After installing kaleido, we need to restart the runtime in Google Colab to load the package properly. We can do this by clicking on __Runtime > Restart Runtime__ in the __menu__. Then we can re-run our code to create and save the sankey diagram."
      ],
      "metadata": {
        "id": "KJ97v75z5Q84"
      }
    },
    {
      "cell_type": "markdown",
      "source": [
        "# Define the number of classes and confusion matrices\n",
        "This cell defines two variables: `num_classes` and num_confusion_matrices. The `num_classes` variable stores the number of land use classes that we have in our data, which is 6. The `num_confusion_matrices` variable stores the number of confusion matrices that we will use to compare the land use labels across different years, which is 2. These variables will be used later to create the nodes and links for the sankey diagram."
      ],
      "metadata": {
        "id": "FHG-0ebZ6QOQ"
      }
    },
    {
      "cell_type": "code",
      "source": [
        "num_classes = 6\n",
        "num_confusion_matrices = 2"
      ],
      "metadata": {
        "id": "0Mu16-v25ryV"
      },
      "execution_count": 7,
      "outputs": []
    },
    {
      "cell_type": "markdown",
      "source": [
        "<a name=\"1\"></a>\n",
        "# Simulate land use changes over two years\n",
        "\n",
        "In this code cell, we import numpy and define a list of classes for different types of land use. Then we create an array of 10 million random labels for the land use in year 1, using a given probability distribution. Next, we randomly select 10% of the labels and change them to a different class, simulating the land use changes in year 2. Finally, we calculate the proportion of labels that remain the same between year 1 and year 2.\n"
      ],
      "metadata": {
        "id": "o2NYlPuK0oxV"
      }
    },
    {
      "cell_type": "code",
      "source": [
        "import numpy as np\n",
        "classes = [\"Developed\", \"Agriculture\",  \"Water\", \"Forest\", \"Pasture\", \"Other\"]\n",
        "\n",
        "year1 = np.random.choice(np.arange(num_classes), size  = 10000000, p = np.array([0.1,0.2,0.1,0.4,0.05,0.15]))\n",
        "changes = np.unique(np.sort(np.random.randint(0, year1.shape[0], size = int(year1.shape[0]*0.1))))\n",
        "year2 = np.copy(year1)\n",
        "year2[changes] = np.random.randint(0,6,size=changes.shape[0])\n",
        "np.mean(year1 == year2)"
      ],
      "metadata": {
        "colab": {
          "base_uri": "https://localhost:8080/"
        },
        "id": "gpldQ7R4zGiX",
        "outputId": "c179af45-5212-444f-f194-ae2e905ece4f"
      },
      "execution_count": 1,
      "outputs": [
        {
          "output_type": "execute_result",
          "data": {
            "text/plain": [
              "0.9206753"
            ]
          },
          "metadata": {},
          "execution_count": 1
        }
      ]
    },
    {
      "cell_type": "markdown",
      "source": [
        "<a name=\"2\"></a>\n",
        "# Simulate land use changes over three years\n",
        "\n",
        "In this code cell, we extend the previous simulation to include a third year. We randomly select another 10% of the labels and change them to a different class, simulating the land use changes in year 3. Then we calculate the proportion of labels that remain the same between year 2 and year 3, and between year 1 and year 3."
      ],
      "metadata": {
        "id": "mhD_oFY709Dd"
      }
    },
    {
      "cell_type": "code",
      "source": [
        "changes2 = np.unique(np.sort(np.random.randint(0, year1.shape[0], size = int(year1.shape[0]*0.1))))\n",
        "year3 = np.copy(year2)\n",
        "year3[changes2] = np.random.randint(0,6,size=changes2.shape[0])\n",
        "np.mean(year2 == year3), np.mean(year1 == year3)"
      ],
      "metadata": {
        "colab": {
          "base_uri": "https://localhost:8080/"
        },
        "id": "icrMwYVfzJg_",
        "outputId": "ff2e7502-0794-4539-8969-518dd95465fa"
      },
      "execution_count": 2,
      "outputs": [
        {
          "output_type": "execute_result",
          "data": {
            "text/plain": [
              "(0.9206494, 0.8488998)"
            ]
          },
          "metadata": {},
          "execution_count": 2
        }
      ]
    },
    {
      "cell_type": "markdown",
      "source": [
        "<a name=\"3\"></a>\n",
        "# Define functions to calculate confusion matrices and create sankey texts\n",
        "\n",
        "In this code cell, we define two functions: confusion_matrix and create_sankytext. The confusion_matrix function takes two arrays of labels and returns a confusion matrix that shows how many samples have each pair of true and predicted labels. The create_sankytext function takes a confusion matrix, a list of classes, and two indices for the source and target node groups, and returns a text that can be passed to a website to generate a sankey diagram. The website url is also provided in the docstring of the function.\n",
        "\n",
        "We then use the confusion_matrix function to calculate the confusion matrices for year 1 and year 2, and for year 2 and year 3."
      ],
      "metadata": {
        "id": "QipjzJYs1SJz"
      }
    },
    {
      "cell_type": "code",
      "execution_count": 3,
      "metadata": {
        "id": "bmawa9dqmybB"
      },
      "outputs": [],
      "source": [
        "def confusion_matrix(y1, y2):\n",
        "    \"\"\"\n",
        "    Calculates the confusion matrix for two arrays of labels.\n",
        "\n",
        "    Parameters\n",
        "    ----------\n",
        "    y1 : array-like of shape (n_samples,)\n",
        "        The true labels of the samples.\n",
        "    y2 : array-like of shape (n_samples,)\n",
        "        The predicted labels of the samples.\n",
        "\n",
        "    Returns\n",
        "    -------\n",
        "    counts_mat : array-like of shape (n_classes, n_classes)\n",
        "        The confusion matrix, where counts_mat[i, j] is the number of samples\n",
        "        with true label i and predicted label j.\n",
        "    \"\"\"\n",
        "    nclass = len(np.unique(np.hstack((year1, year2))))\n",
        "    counts_mat = np.zeros(shape=(nclass, nclass))\n",
        "    for i in range(len(y1)):\n",
        "        row = y1[i]\n",
        "        col = y2[i]\n",
        "        counts_mat[row, col] += 1\n",
        "    return counts_mat\n",
        "\n",
        "cm1 = confusion_matrix(year1, year2)\n",
        "cm2 = confusion_matrix(year2, year3)\n",
        "\n",
        "def create_sankytext(cm, classes, n, m):\n",
        "    \"\"\"\n",
        "    Creates a text to be passed to a website to generate a sankey diagram.\n",
        "\n",
        "    Parameters\n",
        "    ----------\n",
        "    cm : array-like of shape (n_classes, n_classes)\n",
        "        The confusion matrix, where cm[i, j] is the number of samples\n",
        "        with true label i and predicted label j.\n",
        "    classes : list of str\n",
        "        The names of the classes.\n",
        "    n : int\n",
        "        The index of the source node group.\n",
        "    m : int\n",
        "        The index of the target node group.\n",
        "\n",
        "    Returns\n",
        "    -------\n",
        "    text : str\n",
        "        The text to be passed to the website, where each line has the format:\n",
        "        \"class_n [value] class_m\", where class_n and class_m are the names of the\n",
        "        source and target classes, and value is the number of samples with those labels.\n",
        "\n",
        "    Website\n",
        "    -------\n",
        "    https://www.sankeymatic.com/build/\n",
        "    \"\"\"\n",
        "    text = []\n",
        "    for i in range(cm.shape[0]):\n",
        "        for j in range(cm.shape[1]):\n",
        "            text.append(classes[i]+ str(n) + \" [\" + str(int(cm1[i,j])) +\"] \" + classes[j] + str(m))\n",
        "    return \"\\n\".join(text)\n",
        "\n",
        "#print(create_sankytext(cm1, classes, 1,2))\n",
        "#print(create_sankytext(cm2, classes, 2,3))"
      ]
    },
    {
      "cell_type": "markdown",
      "source": [
        "<a name=\"4\"></a>\n",
        "# Define a list of colors for each land use class\n",
        "This cell defines a list of colors in RGBA format for each of the six land use classes: Developed, Agriculture, Water, Forest, Pasture, and Other. "
      ],
      "metadata": {
        "id": "1YsrvO_-3cOy"
      }
    },
    {
      "cell_type": "code",
      "source": [
        "colors = [\"rgba(255, 102, 102, 0.95)\", # light coral for developed\n",
        "          \"rgba(240, 230, 103, 0.95)\", # darker yellow for agriculture\n",
        "          \"rgba(102, 178, 255, 0.95)\", # light blue for water\n",
        "          \"rgba(102, 248, 102, 0.95)\", # light green for forest\n",
        "          \"rgba(204, 204, 0, 0.95)\", # olive for pasture\n",
        "          \"rgba(192, 192, 192, 0.95)\"] # silver for other"
      ],
      "metadata": {
        "id": "6BnnqGAcoF5G"
      },
      "execution_count": 5,
      "outputs": []
    },
    {
      "cell_type": "markdown",
      "source": [
        "<a name=\"5\"></a>\n",
        "# Create and display the sankey diagram\n",
        "Now let's use the plotly.graph_objects library to create a sankey diagram. The node attribute defines the properties of the nodes, such as their padding, thickness, line color, label, and color. The label is created by appending the year number to each class name. The link attribute defines the properties of the links, such as their source, target, value, label, and color. The source and target are indices that correspond to the labels of the nodes. The value and label are derived from the confusion matrices that show the number of samples with each pair of true and predicted labels. The color is a slightly transparent version of the node color. The figure is then updated with a title and a font size, and displayed using the show method."
      ],
      "metadata": {
        "id": "AJUM8tc43-xy"
      }
    },
    {
      "cell_type": "code",
      "source": [
        "import plotly.graph_objects as go\n",
        "\n",
        "fig = go.Figure(data=[go.Sankey(\n",
        "    node = dict(\n",
        "      pad = 15,\n",
        "      thickness = 20,\n",
        "      line = dict(color = \"black\", width = 0.5),\n",
        "      label = [i + \"1\" for i in classes] + [i + \"2\" for i in classes] + [i + \"3\" for i in classes],\n",
        "      color = colors*3\n",
        "    ),\n",
        "    link = dict(\n",
        "      source = [x for x in [0,1,2,3,4,5] for _ in range(6)] + [x for x in [6,7,8,9,10,11] for _ in range(num_classes)], # indices correspond to labels, eg A1, A2, A1, B1, ...\n",
        "      target = [6,7,8,9,10,11]*num_classes + [12,13,14,15,16,17]*num_classes,\n",
        "      value = [int(i) for i in cm1.ravel().tolist() + cm2.ravel().tolist()],\n",
        "      label = [int(i) for i in cm1.ravel().tolist() + cm2.ravel().tolist()],\n",
        "      color = [i.replace(\"0.95\", \"0.8\") for i in [x for x in colors for _ in range(num_classes)] *num_confusion_matrices]\n",
        "  ))])\n",
        "\n",
        "fig.update_layout(title_text=\"Land Use Changes between 3 Years\", font_size=10)\n",
        "fig.show()"
      ],
      "metadata": {
        "colab": {
          "base_uri": "https://localhost:8080/",
          "height": 542
        },
        "id": "sjDhhRThm8zX",
        "outputId": "d91c5125-9279-4008-8076-a8be45112535"
      },
      "execution_count": 12,
      "outputs": [
        {
          "output_type": "display_data",
          "data": {
            "text/html": [
              "<html>\n",
              "<head><meta charset=\"utf-8\" /></head>\n",
              "<body>\n",
              "    <div>            <script src=\"https://cdnjs.cloudflare.com/ajax/libs/mathjax/2.7.5/MathJax.js?config=TeX-AMS-MML_SVG\"></script><script type=\"text/javascript\">if (window.MathJax && window.MathJax.Hub && window.MathJax.Hub.Config) {window.MathJax.Hub.Config({SVG: {font: \"STIX-Web\"}});}</script>                <script type=\"text/javascript\">window.PlotlyConfig = {MathJaxConfig: 'local'};</script>\n",
              "        <script src=\"https://cdn.plot.ly/plotly-2.18.2.min.js\"></script>                <div id=\"b82bbc04-8004-4031-b875-1089a3c559b5\" class=\"plotly-graph-div\" style=\"height:525px; width:100%;\"></div>            <script type=\"text/javascript\">                                    window.PLOTLYENV=window.PLOTLYENV || {};                                    if (document.getElementById(\"b82bbc04-8004-4031-b875-1089a3c559b5\")) {                    Plotly.newPlot(                        \"b82bbc04-8004-4031-b875-1089a3c559b5\",                        [{\"link\":{\"color\":[\"rgba(255, 102, 102, 0.8)\",\"rgba(255, 102, 102, 0.8)\",\"rgba(255, 102, 102, 0.8)\",\"rgba(255, 102, 102, 0.8)\",\"rgba(255, 102, 102, 0.8)\",\"rgba(255, 102, 102, 0.8)\",\"rgba(240, 230, 103, 0.8)\",\"rgba(240, 230, 103, 0.8)\",\"rgba(240, 230, 103, 0.8)\",\"rgba(240, 230, 103, 0.8)\",\"rgba(240, 230, 103, 0.8)\",\"rgba(240, 230, 103, 0.8)\",\"rgba(102, 178, 255, 0.8)\",\"rgba(102, 178, 255, 0.8)\",\"rgba(102, 178, 255, 0.8)\",\"rgba(102, 178, 255, 0.8)\",\"rgba(102, 178, 255, 0.8)\",\"rgba(102, 178, 255, 0.8)\",\"rgba(102, 248, 102, 0.8)\",\"rgba(102, 248, 102, 0.8)\",\"rgba(102, 248, 102, 0.8)\",\"rgba(102, 248, 102, 0.8)\",\"rgba(102, 248, 102, 0.8)\",\"rgba(102, 248, 102, 0.8)\",\"rgba(204, 204, 0, 0.8)\",\"rgba(204, 204, 0, 0.8)\",\"rgba(204, 204, 0, 0.8)\",\"rgba(204, 204, 0, 0.8)\",\"rgba(204, 204, 0, 0.8)\",\"rgba(204, 204, 0, 0.8)\",\"rgba(192, 192, 192, 0.8)\",\"rgba(192, 192, 192, 0.8)\",\"rgba(192, 192, 192, 0.8)\",\"rgba(192, 192, 192, 0.8)\",\"rgba(192, 192, 192, 0.8)\",\"rgba(192, 192, 192, 0.8)\",\"rgba(255, 102, 102, 0.8)\",\"rgba(255, 102, 102, 0.8)\",\"rgba(255, 102, 102, 0.8)\",\"rgba(255, 102, 102, 0.8)\",\"rgba(255, 102, 102, 0.8)\",\"rgba(255, 102, 102, 0.8)\",\"rgba(240, 230, 103, 0.8)\",\"rgba(240, 230, 103, 0.8)\",\"rgba(240, 230, 103, 0.8)\",\"rgba(240, 230, 103, 0.8)\",\"rgba(240, 230, 103, 0.8)\",\"rgba(240, 230, 103, 0.8)\",\"rgba(102, 178, 255, 0.8)\",\"rgba(102, 178, 255, 0.8)\",\"rgba(102, 178, 255, 0.8)\",\"rgba(102, 178, 255, 0.8)\",\"rgba(102, 178, 255, 0.8)\",\"rgba(102, 178, 255, 0.8)\",\"rgba(102, 248, 102, 0.8)\",\"rgba(102, 248, 102, 0.8)\",\"rgba(102, 248, 102, 0.8)\",\"rgba(102, 248, 102, 0.8)\",\"rgba(102, 248, 102, 0.8)\",\"rgba(102, 248, 102, 0.8)\",\"rgba(204, 204, 0, 0.8)\",\"rgba(204, 204, 0, 0.8)\",\"rgba(204, 204, 0, 0.8)\",\"rgba(204, 204, 0, 0.8)\",\"rgba(204, 204, 0, 0.8)\",\"rgba(204, 204, 0, 0.8)\",\"rgba(192, 192, 192, 0.8)\",\"rgba(192, 192, 192, 0.8)\",\"rgba(192, 192, 192, 0.8)\",\"rgba(192, 192, 192, 0.8)\",\"rgba(192, 192, 192, 0.8)\",\"rgba(192, 192, 192, 0.8)\"],\"label\":[921854,15815,15855,15895,15981,15844,31746,1842223,31913,31516,31438,31562,16004,15870,920249,15899,15961,15768,63683,63694,63442,3681656,63583,63335,7905,7923,7879,7932,461551,8109,23888,23626,23866,23670,23645,1379220,980493,16885,16804,16931,17147,16820,31418,1813238,31307,31052,31034,31102,16809,16820,978576,17148,17009,16842,60049,59690,59921,3477183,59705,60020,9674,9740,9723,9733,563447,9842,24247,24153,24071,23802,24008,1393557],\"source\":[0,0,0,0,0,0,1,1,1,1,1,1,2,2,2,2,2,2,3,3,3,3,3,3,4,4,4,4,4,4,5,5,5,5,5,5,6,6,6,6,6,6,7,7,7,7,7,7,8,8,8,8,8,8,9,9,9,9,9,9,10,10,10,10,10,10,11,11,11,11,11,11],\"target\":[6,7,8,9,10,11,6,7,8,9,10,11,6,7,8,9,10,11,6,7,8,9,10,11,6,7,8,9,10,11,6,7,8,9,10,11,12,13,14,15,16,17,12,13,14,15,16,17,12,13,14,15,16,17,12,13,14,15,16,17,12,13,14,15,16,17,12,13,14,15,16,17],\"value\":[921854,15815,15855,15895,15981,15844,31746,1842223,31913,31516,31438,31562,16004,15870,920249,15899,15961,15768,63683,63694,63442,3681656,63583,63335,7905,7923,7879,7932,461551,8109,23888,23626,23866,23670,23645,1379220,980493,16885,16804,16931,17147,16820,31418,1813238,31307,31052,31034,31102,16809,16820,978576,17148,17009,16842,60049,59690,59921,3477183,59705,60020,9674,9740,9723,9733,563447,9842,24247,24153,24071,23802,24008,1393557]},\"node\":{\"color\":[\"rgba(255, 102, 102, 0.95)\",\"rgba(240, 230, 103, 0.95)\",\"rgba(102, 178, 255, 0.95)\",\"rgba(102, 248, 102, 0.95)\",\"rgba(204, 204, 0, 0.95)\",\"rgba(192, 192, 192, 0.95)\",\"rgba(255, 102, 102, 0.95)\",\"rgba(240, 230, 103, 0.95)\",\"rgba(102, 178, 255, 0.95)\",\"rgba(102, 248, 102, 0.95)\",\"rgba(204, 204, 0, 0.95)\",\"rgba(192, 192, 192, 0.95)\",\"rgba(255, 102, 102, 0.95)\",\"rgba(240, 230, 103, 0.95)\",\"rgba(102, 178, 255, 0.95)\",\"rgba(102, 248, 102, 0.95)\",\"rgba(204, 204, 0, 0.95)\",\"rgba(192, 192, 192, 0.95)\"],\"label\":[\"Developed1\",\"Agriculture1\",\"Water1\",\"Forest1\",\"Pasture1\",\"Other1\",\"Developed2\",\"Agriculture2\",\"Water2\",\"Forest2\",\"Pasture2\",\"Other2\",\"Developed3\",\"Agriculture3\",\"Water3\",\"Forest3\",\"Pasture3\",\"Other3\"],\"line\":{\"color\":\"black\",\"width\":0.5},\"pad\":15,\"thickness\":20},\"type\":\"sankey\"}],                        {\"template\":{\"data\":{\"histogram2dcontour\":[{\"type\":\"histogram2dcontour\",\"colorbar\":{\"outlinewidth\":0,\"ticks\":\"\"},\"colorscale\":[[0.0,\"#0d0887\"],[0.1111111111111111,\"#46039f\"],[0.2222222222222222,\"#7201a8\"],[0.3333333333333333,\"#9c179e\"],[0.4444444444444444,\"#bd3786\"],[0.5555555555555556,\"#d8576b\"],[0.6666666666666666,\"#ed7953\"],[0.7777777777777778,\"#fb9f3a\"],[0.8888888888888888,\"#fdca26\"],[1.0,\"#f0f921\"]]}],\"choropleth\":[{\"type\":\"choropleth\",\"colorbar\":{\"outlinewidth\":0,\"ticks\":\"\"}}],\"histogram2d\":[{\"type\":\"histogram2d\",\"colorbar\":{\"outlinewidth\":0,\"ticks\":\"\"},\"colorscale\":[[0.0,\"#0d0887\"],[0.1111111111111111,\"#46039f\"],[0.2222222222222222,\"#7201a8\"],[0.3333333333333333,\"#9c179e\"],[0.4444444444444444,\"#bd3786\"],[0.5555555555555556,\"#d8576b\"],[0.6666666666666666,\"#ed7953\"],[0.7777777777777778,\"#fb9f3a\"],[0.8888888888888888,\"#fdca26\"],[1.0,\"#f0f921\"]]}],\"heatmap\":[{\"type\":\"heatmap\",\"colorbar\":{\"outlinewidth\":0,\"ticks\":\"\"},\"colorscale\":[[0.0,\"#0d0887\"],[0.1111111111111111,\"#46039f\"],[0.2222222222222222,\"#7201a8\"],[0.3333333333333333,\"#9c179e\"],[0.4444444444444444,\"#bd3786\"],[0.5555555555555556,\"#d8576b\"],[0.6666666666666666,\"#ed7953\"],[0.7777777777777778,\"#fb9f3a\"],[0.8888888888888888,\"#fdca26\"],[1.0,\"#f0f921\"]]}],\"heatmapgl\":[{\"type\":\"heatmapgl\",\"colorbar\":{\"outlinewidth\":0,\"ticks\":\"\"},\"colorscale\":[[0.0,\"#0d0887\"],[0.1111111111111111,\"#46039f\"],[0.2222222222222222,\"#7201a8\"],[0.3333333333333333,\"#9c179e\"],[0.4444444444444444,\"#bd3786\"],[0.5555555555555556,\"#d8576b\"],[0.6666666666666666,\"#ed7953\"],[0.7777777777777778,\"#fb9f3a\"],[0.8888888888888888,\"#fdca26\"],[1.0,\"#f0f921\"]]}],\"contourcarpet\":[{\"type\":\"contourcarpet\",\"colorbar\":{\"outlinewidth\":0,\"ticks\":\"\"}}],\"contour\":[{\"type\":\"contour\",\"colorbar\":{\"outlinewidth\":0,\"ticks\":\"\"},\"colorscale\":[[0.0,\"#0d0887\"],[0.1111111111111111,\"#46039f\"],[0.2222222222222222,\"#7201a8\"],[0.3333333333333333,\"#9c179e\"],[0.4444444444444444,\"#bd3786\"],[0.5555555555555556,\"#d8576b\"],[0.6666666666666666,\"#ed7953\"],[0.7777777777777778,\"#fb9f3a\"],[0.8888888888888888,\"#fdca26\"],[1.0,\"#f0f921\"]]}],\"surface\":[{\"type\":\"surface\",\"colorbar\":{\"outlinewidth\":0,\"ticks\":\"\"},\"colorscale\":[[0.0,\"#0d0887\"],[0.1111111111111111,\"#46039f\"],[0.2222222222222222,\"#7201a8\"],[0.3333333333333333,\"#9c179e\"],[0.4444444444444444,\"#bd3786\"],[0.5555555555555556,\"#d8576b\"],[0.6666666666666666,\"#ed7953\"],[0.7777777777777778,\"#fb9f3a\"],[0.8888888888888888,\"#fdca26\"],[1.0,\"#f0f921\"]]}],\"mesh3d\":[{\"type\":\"mesh3d\",\"colorbar\":{\"outlinewidth\":0,\"ticks\":\"\"}}],\"scatter\":[{\"fillpattern\":{\"fillmode\":\"overlay\",\"size\":10,\"solidity\":0.2},\"type\":\"scatter\"}],\"parcoords\":[{\"type\":\"parcoords\",\"line\":{\"colorbar\":{\"outlinewidth\":0,\"ticks\":\"\"}}}],\"scatterpolargl\":[{\"type\":\"scatterpolargl\",\"marker\":{\"colorbar\":{\"outlinewidth\":0,\"ticks\":\"\"}}}],\"bar\":[{\"error_x\":{\"color\":\"#2a3f5f\"},\"error_y\":{\"color\":\"#2a3f5f\"},\"marker\":{\"line\":{\"color\":\"#E5ECF6\",\"width\":0.5},\"pattern\":{\"fillmode\":\"overlay\",\"size\":10,\"solidity\":0.2}},\"type\":\"bar\"}],\"scattergeo\":[{\"type\":\"scattergeo\",\"marker\":{\"colorbar\":{\"outlinewidth\":0,\"ticks\":\"\"}}}],\"scatterpolar\":[{\"type\":\"scatterpolar\",\"marker\":{\"colorbar\":{\"outlinewidth\":0,\"ticks\":\"\"}}}],\"histogram\":[{\"marker\":{\"pattern\":{\"fillmode\":\"overlay\",\"size\":10,\"solidity\":0.2}},\"type\":\"histogram\"}],\"scattergl\":[{\"type\":\"scattergl\",\"marker\":{\"colorbar\":{\"outlinewidth\":0,\"ticks\":\"\"}}}],\"scatter3d\":[{\"type\":\"scatter3d\",\"line\":{\"colorbar\":{\"outlinewidth\":0,\"ticks\":\"\"}},\"marker\":{\"colorbar\":{\"outlinewidth\":0,\"ticks\":\"\"}}}],\"scattermapbox\":[{\"type\":\"scattermapbox\",\"marker\":{\"colorbar\":{\"outlinewidth\":0,\"ticks\":\"\"}}}],\"scatterternary\":[{\"type\":\"scatterternary\",\"marker\":{\"colorbar\":{\"outlinewidth\":0,\"ticks\":\"\"}}}],\"scattercarpet\":[{\"type\":\"scattercarpet\",\"marker\":{\"colorbar\":{\"outlinewidth\":0,\"ticks\":\"\"}}}],\"carpet\":[{\"aaxis\":{\"endlinecolor\":\"#2a3f5f\",\"gridcolor\":\"white\",\"linecolor\":\"white\",\"minorgridcolor\":\"white\",\"startlinecolor\":\"#2a3f5f\"},\"baxis\":{\"endlinecolor\":\"#2a3f5f\",\"gridcolor\":\"white\",\"linecolor\":\"white\",\"minorgridcolor\":\"white\",\"startlinecolor\":\"#2a3f5f\"},\"type\":\"carpet\"}],\"table\":[{\"cells\":{\"fill\":{\"color\":\"#EBF0F8\"},\"line\":{\"color\":\"white\"}},\"header\":{\"fill\":{\"color\":\"#C8D4E3\"},\"line\":{\"color\":\"white\"}},\"type\":\"table\"}],\"barpolar\":[{\"marker\":{\"line\":{\"color\":\"#E5ECF6\",\"width\":0.5},\"pattern\":{\"fillmode\":\"overlay\",\"size\":10,\"solidity\":0.2}},\"type\":\"barpolar\"}],\"pie\":[{\"automargin\":true,\"type\":\"pie\"}]},\"layout\":{\"autotypenumbers\":\"strict\",\"colorway\":[\"#636efa\",\"#EF553B\",\"#00cc96\",\"#ab63fa\",\"#FFA15A\",\"#19d3f3\",\"#FF6692\",\"#B6E880\",\"#FF97FF\",\"#FECB52\"],\"font\":{\"color\":\"#2a3f5f\"},\"hovermode\":\"closest\",\"hoverlabel\":{\"align\":\"left\"},\"paper_bgcolor\":\"white\",\"plot_bgcolor\":\"#E5ECF6\",\"polar\":{\"bgcolor\":\"#E5ECF6\",\"angularaxis\":{\"gridcolor\":\"white\",\"linecolor\":\"white\",\"ticks\":\"\"},\"radialaxis\":{\"gridcolor\":\"white\",\"linecolor\":\"white\",\"ticks\":\"\"}},\"ternary\":{\"bgcolor\":\"#E5ECF6\",\"aaxis\":{\"gridcolor\":\"white\",\"linecolor\":\"white\",\"ticks\":\"\"},\"baxis\":{\"gridcolor\":\"white\",\"linecolor\":\"white\",\"ticks\":\"\"},\"caxis\":{\"gridcolor\":\"white\",\"linecolor\":\"white\",\"ticks\":\"\"}},\"coloraxis\":{\"colorbar\":{\"outlinewidth\":0,\"ticks\":\"\"}},\"colorscale\":{\"sequential\":[[0.0,\"#0d0887\"],[0.1111111111111111,\"#46039f\"],[0.2222222222222222,\"#7201a8\"],[0.3333333333333333,\"#9c179e\"],[0.4444444444444444,\"#bd3786\"],[0.5555555555555556,\"#d8576b\"],[0.6666666666666666,\"#ed7953\"],[0.7777777777777778,\"#fb9f3a\"],[0.8888888888888888,\"#fdca26\"],[1.0,\"#f0f921\"]],\"sequentialminus\":[[0.0,\"#0d0887\"],[0.1111111111111111,\"#46039f\"],[0.2222222222222222,\"#7201a8\"],[0.3333333333333333,\"#9c179e\"],[0.4444444444444444,\"#bd3786\"],[0.5555555555555556,\"#d8576b\"],[0.6666666666666666,\"#ed7953\"],[0.7777777777777778,\"#fb9f3a\"],[0.8888888888888888,\"#fdca26\"],[1.0,\"#f0f921\"]],\"diverging\":[[0,\"#8e0152\"],[0.1,\"#c51b7d\"],[0.2,\"#de77ae\"],[0.3,\"#f1b6da\"],[0.4,\"#fde0ef\"],[0.5,\"#f7f7f7\"],[0.6,\"#e6f5d0\"],[0.7,\"#b8e186\"],[0.8,\"#7fbc41\"],[0.9,\"#4d9221\"],[1,\"#276419\"]]},\"xaxis\":{\"gridcolor\":\"white\",\"linecolor\":\"white\",\"ticks\":\"\",\"title\":{\"standoff\":15},\"zerolinecolor\":\"white\",\"automargin\":true,\"zerolinewidth\":2},\"yaxis\":{\"gridcolor\":\"white\",\"linecolor\":\"white\",\"ticks\":\"\",\"title\":{\"standoff\":15},\"zerolinecolor\":\"white\",\"automargin\":true,\"zerolinewidth\":2},\"scene\":{\"xaxis\":{\"backgroundcolor\":\"#E5ECF6\",\"gridcolor\":\"white\",\"linecolor\":\"white\",\"showbackground\":true,\"ticks\":\"\",\"zerolinecolor\":\"white\",\"gridwidth\":2},\"yaxis\":{\"backgroundcolor\":\"#E5ECF6\",\"gridcolor\":\"white\",\"linecolor\":\"white\",\"showbackground\":true,\"ticks\":\"\",\"zerolinecolor\":\"white\",\"gridwidth\":2},\"zaxis\":{\"backgroundcolor\":\"#E5ECF6\",\"gridcolor\":\"white\",\"linecolor\":\"white\",\"showbackground\":true,\"ticks\":\"\",\"zerolinecolor\":\"white\",\"gridwidth\":2}},\"shapedefaults\":{\"line\":{\"color\":\"#2a3f5f\"}},\"annotationdefaults\":{\"arrowcolor\":\"#2a3f5f\",\"arrowhead\":0,\"arrowwidth\":1},\"geo\":{\"bgcolor\":\"white\",\"landcolor\":\"#E5ECF6\",\"subunitcolor\":\"white\",\"showland\":true,\"showlakes\":true,\"lakecolor\":\"white\"},\"title\":{\"x\":0.05},\"mapbox\":{\"style\":\"light\"}}},\"title\":{\"text\":\"Land Use Changes between 3 Years\"},\"font\":{\"size\":10}},                        {\"responsive\": true}                    ).then(function(){\n",
              "                            \n",
              "var gd = document.getElementById('b82bbc04-8004-4031-b875-1089a3c559b5');\n",
              "var x = new MutationObserver(function (mutations, observer) {{\n",
              "        var display = window.getComputedStyle(gd).display;\n",
              "        if (!display || display === 'none') {{\n",
              "            console.log([gd, 'removed!']);\n",
              "            Plotly.purge(gd);\n",
              "            observer.disconnect();\n",
              "        }}\n",
              "}});\n",
              "\n",
              "// Listen for the removal of the full notebook cells\n",
              "var notebookContainer = gd.closest('#notebook-container');\n",
              "if (notebookContainer) {{\n",
              "    x.observe(notebookContainer, {childList: true});\n",
              "}}\n",
              "\n",
              "// Listen for the clearing of the current output cell\n",
              "var outputEl = gd.closest('.output');\n",
              "if (outputEl) {{\n",
              "    x.observe(outputEl, {childList: true});\n",
              "}}\n",
              "\n",
              "                        })                };                            </script>        </div>\n",
              "</body>\n",
              "</html>"
            ]
          },
          "metadata": {}
        }
      ]
    },
    {
      "cell_type": "markdown",
      "source": [
        "<a name=\"6\"></a>\n",
        "# Save the sankey diagram as a static image file\n",
        "we can use `fig.write_image` method to save the image as a static image or `fig.write_html` to export it as a webpage."
      ],
      "metadata": {
        "id": "FDGglKWW8vhG"
      }
    },
    {
      "cell_type": "code",
      "source": [
        "fig.write_image(\"sankey.png\")\n",
        "fig.write_html(\"sankey.html\")"
      ],
      "metadata": {
        "id": "WVz2eBBN1-Eo"
      },
      "execution_count": 13,
      "outputs": []
    },
    {
      "cell_type": "markdown",
      "source": [
        "I hope you have enjoyed this tutorial on how to create a sankey diagram using plotly. You have learned how to use plotly to visualize the flow of data between different categories and how to customize the appearance and interactivity of the sankey diagram. Happy plotting!"
      ],
      "metadata": {
        "id": "DwUzxl4y9_Pz"
      }
    }
  ]
}